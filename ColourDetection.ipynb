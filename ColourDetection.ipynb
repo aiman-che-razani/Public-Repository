{
 "cells": [
  {
   "cell_type": "code",
   "execution_count": 1,
   "id": "9f9724de-5528-4ebc-9106-818083faca60",
   "metadata": {},
   "outputs": [],
   "source": [
    "import cv2\n",
    "import argparse\n",
    "import numpy as np\n",
    "import pandas as pd\n"
   ]
  },
  {
   "cell_type": "code",
   "execution_count": 2,
   "id": "ba1b70c0-4bd4-4d09-8e1b-b4a5f3bcbb4e",
   "metadata": {},
   "outputs": [],
   "source": [
    "def draw_function(event,x,y,flags,param):\n",
    "    if event == cv2.EVENT_LBUTTONDBLCLK:\n",
    "        global b,g,r,xpos,ypos,clicked\n",
    "        clicked = True\n",
    "        xpos = x\n",
    "        ypos = y\n",
    "        b,g,r = img[y,x]\n",
    "        b=int(b)\n",
    "        g=int(g)\n",
    "        r=int(r)"
   ]
  },
  {
   "cell_type": "code",
   "execution_count": 3,
   "id": "2ebc4546-fc35-48be-981d-c82509a2b778",
   "metadata": {},
   "outputs": [],
   "source": [
    "def getColourName(R,G,B):\n",
    "    minimum=10000\n",
    "    for i in range (len(colour)):\n",
    "        d=abs(R-int(colour.loc[i,\"R\"]))+abs(G-int(colour.loc[i,\"G\"]))+abs(B-int(colour.loc[i,\"B\"]))\n",
    "        if(d<=minimum):\n",
    "            minimum=d\n",
    "            cname=colour.loc[i,\"colour_name\"]\n",
    "    return cname"
   ]
  },
  {
   "cell_type": "code",
   "execution_count": 4,
   "id": "7ad16436-2f90-4a45-adcf-d37a576fbb11",
   "metadata": {},
   "outputs": [],
   "source": [
    "#ap=argparse.ArgumentParser()\n",
    "#ap.add_argument('-i','--image',required=True, help='Image Path')\n",
    "#args=vars(ap.parse_args())\n",
    "#img_path=args['image']\n",
    "img_path=\"D:\\Dataset\\python-project-color-detection\\me.jpg\"\n",
    "img=cv2.imread(img_path)\n",
    "clicked=False\n",
    "r=g=b=xpos=ypos=0"
   ]
  },
  {
   "cell_type": "code",
   "execution_count": 5,
   "id": "98c2aab1-53ad-46c6-8190-6e086980ac57",
   "metadata": {},
   "outputs": [],
   "source": [
    "ind=[\"colour\",\"colour_name\",\"hex\",\"R\",\"G\",\"B\"]\n",
    "colour=pd.read_csv('D:\\\\Dataset\\\\python-project-color-detection\\\\colours.csv',names=ind,header=None)"
   ]
  },
  {
   "cell_type": "code",
   "execution_count": 6,
   "id": "0263e164-4c6c-491f-b3a7-5356bcfc1fa9",
   "metadata": {},
   "outputs": [],
   "source": [
    "cv2.namedWindow('image')\n",
    "cv2.setMouseCallback('image', draw_function)"
   ]
  },
  {
   "cell_type": "code",
   "execution_count": 7,
   "id": "8968049c-05d8-43ed-b81d-e165f1a26855",
   "metadata": {},
   "outputs": [],
   "source": [
    "while(1):\n",
    "    cv2.imshow(\"image\",img)\n",
    "    if(clicked):\n",
    "        cv2.rectangle(img,(20,20),(750,60),(b,g,r),-1)\n",
    "        text=getColourName(r,g,b)+' R='+str(r)+' G='+str(g)+' B='+str(b)\n",
    "        cv2.putText(img,text,(50,50),2,0.8,(255,255,255),2,cv2.LINE_AA)\n",
    "        if(r+g+b>=600):\n",
    "            cv2.putText(img,text,(50,50),2,0.8,(0,0,0),2,cv2.LINE_AA)\n",
    "        clicked=False\n",
    "    if cv2.waitKey(20) & 0xFF==27:\n",
    "        break\n",
    "\n",
    "cv2.destroyAllWindows()"
   ]
  },
  {
   "cell_type": "code",
   "execution_count": null,
   "id": "7f9735f0-1160-4e21-af9c-a956a6bcfee7",
   "metadata": {},
   "outputs": [],
   "source": []
  }
 ],
 "metadata": {
  "kernelspec": {
   "display_name": "Python 3 (ipykernel)",
   "language": "python",
   "name": "python3"
  },
  "language_info": {
   "codemirror_mode": {
    "name": "ipython",
    "version": 3
   },
   "file_extension": ".py",
   "mimetype": "text/x-python",
   "name": "python",
   "nbconvert_exporter": "python",
   "pygments_lexer": "ipython3",
   "version": "3.8.6"
  }
 },
 "nbformat": 4,
 "nbformat_minor": 5
}
